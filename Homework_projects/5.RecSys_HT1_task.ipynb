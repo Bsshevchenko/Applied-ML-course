{
  "cells": [
    {
      "cell_type": "markdown",
      "id": "6d04d962",
      "metadata": {
        "id": "6d04d962"
      },
      "source": [
        "# Домашнее задание: рекомендательные системы - 1\n",
        "\n",
        "В этом домашнем задании будем работать с данными о пользователях и оценках, которые они поставили различным фильмам.\n",
        "\n",
        "На основе этих данных будем рекомендовать пользователям к просмотру новые для них фильмы."
      ]
    },
    {
      "cell_type": "code",
      "execution_count": 1,
      "id": "4bb04657",
      "metadata": {
        "id": "4bb04657"
      },
      "outputs": [],
      "source": [
        "import warnings\n",
        "warnings.filterwarnings('ignore')\n",
        "\n",
        "import numpy as np\n",
        "import matplotlib.pyplot as plt\n",
        "import pandas as pd\n",
        "from sklearn.model_selection import train_test_split\n",
        "from sklearn.preprocessing import LabelEncoder\n",
        "from typing import List, Dict\n",
        "from tqdm import tqdm, tqdm_notebook"
      ]
    },
    {
      "cell_type": "markdown",
      "id": "TFlqxaitZmR7",
      "metadata": {
        "id": "TFlqxaitZmR7"
      },
      "source": [
        "## Загрузка и обработка данных\n",
        "\n",
        "Загрузим данные."
      ]
    },
    {
      "cell_type": "code",
      "execution_count": 2,
      "id": "85ebc33a",
      "metadata": {
        "id": "85ebc33a"
      },
      "outputs": [],
      "source": [
        "ratings = pd.read_csv('https://raw.githubusercontent.com/aiedu-courses/stepik_applied_tasks/main/datasets/movies_ratings.csv')"
      ]
    },
    {
      "cell_type": "code",
      "execution_count": 3,
      "metadata": {},
      "outputs": [
        {
          "data": {
            "text/html": [
              "<div>\n",
              "<style scoped>\n",
              "    .dataframe tbody tr th:only-of-type {\n",
              "        vertical-align: middle;\n",
              "    }\n",
              "\n",
              "    .dataframe tbody tr th {\n",
              "        vertical-align: top;\n",
              "    }\n",
              "\n",
              "    .dataframe thead th {\n",
              "        text-align: right;\n",
              "    }\n",
              "</style>\n",
              "<table border=\"1\" class=\"dataframe\">\n",
              "  <thead>\n",
              "    <tr style=\"text-align: right;\">\n",
              "      <th></th>\n",
              "      <th>userId</th>\n",
              "      <th>movieId</th>\n",
              "      <th>rating</th>\n",
              "      <th>timestamp</th>\n",
              "      <th>title</th>\n",
              "    </tr>\n",
              "  </thead>\n",
              "  <tbody>\n",
              "    <tr>\n",
              "      <th>0</th>\n",
              "      <td>1</td>\n",
              "      <td>31</td>\n",
              "      <td>2.5</td>\n",
              "      <td>1260759144</td>\n",
              "      <td>Dangerous Minds</td>\n",
              "    </tr>\n",
              "    <tr>\n",
              "      <th>1</th>\n",
              "      <td>7</td>\n",
              "      <td>31</td>\n",
              "      <td>3.0</td>\n",
              "      <td>851868750</td>\n",
              "      <td>Dangerous Minds</td>\n",
              "    </tr>\n",
              "    <tr>\n",
              "      <th>2</th>\n",
              "      <td>31</td>\n",
              "      <td>31</td>\n",
              "      <td>4.0</td>\n",
              "      <td>1273541953</td>\n",
              "      <td>Dangerous Minds</td>\n",
              "    </tr>\n",
              "    <tr>\n",
              "      <th>3</th>\n",
              "      <td>32</td>\n",
              "      <td>31</td>\n",
              "      <td>4.0</td>\n",
              "      <td>834828440</td>\n",
              "      <td>Dangerous Minds</td>\n",
              "    </tr>\n",
              "    <tr>\n",
              "      <th>4</th>\n",
              "      <td>36</td>\n",
              "      <td>31</td>\n",
              "      <td>3.0</td>\n",
              "      <td>847057202</td>\n",
              "      <td>Dangerous Minds</td>\n",
              "    </tr>\n",
              "  </tbody>\n",
              "</table>\n",
              "</div>"
            ],
            "text/plain": [
              "   userId  movieId  rating   timestamp            title\n",
              "0       1       31     2.5  1260759144  Dangerous Minds\n",
              "1       7       31     3.0   851868750  Dangerous Minds\n",
              "2      31       31     4.0  1273541953  Dangerous Minds\n",
              "3      32       31     4.0   834828440  Dangerous Minds\n",
              "4      36       31     3.0   847057202  Dangerous Minds"
            ]
          },
          "execution_count": 3,
          "metadata": {},
          "output_type": "execute_result"
        }
      ],
      "source": [
        "ratings.head()"
      ]
    },
    {
      "cell_type": "code",
      "execution_count": 5,
      "id": "35528fc3",
      "metadata": {
        "id": "35528fc3"
      },
      "outputs": [
        {
          "data": {
            "text/plain": [
              "(671, 9025)"
            ]
          },
          "execution_count": 5,
          "metadata": {},
          "output_type": "execute_result"
        }
      ],
      "source": [
        "user_encoder = LabelEncoder()\n",
        "item_encoder = LabelEncoder()\n",
        "\n",
        "ratings['userId'] = user_encoder.fit_transform(ratings['userId'])\n",
        "ratings['movieId'] = item_encoder.fit_transform(ratings['movieId'])\n",
        "\n",
        "num_users, num_movies = ratings.userId.nunique(), ratings.movieId.nunique()\n",
        "num_users, num_movies"
      ]
    },
    {
      "cell_type": "markdown",
      "id": "8ad16895",
      "metadata": {
        "id": "8ad16895"
      },
      "source": [
        "Поделим выборку на train и test так, чтобы у каждого пользователя последние 10 фильмов оказались в тесте для подсчета метрики качества рекомендаций k=10.  "
      ]
    },
    {
      "cell_type": "code",
      "execution_count": 7,
      "metadata": {},
      "outputs": [
        {
          "data": {
            "text/plain": [
              "<pandas.core.groupby.generic.DataFrameGroupBy object at 0x00000290928CAA40>"
            ]
          },
          "execution_count": 7,
          "metadata": {},
          "output_type": "execute_result"
        }
      ],
      "source": [
        "ratings.groupby('userId')"
      ]
    },
    {
      "cell_type": "code",
      "execution_count": 8,
      "id": "2b735dc3",
      "metadata": {
        "id": "2b735dc3"
      },
      "outputs": [
        {
          "name": "stdout",
          "output_type": "stream",
          "text": [
            "(93140, 5) (6710, 5)\n"
          ]
        }
      ],
      "source": [
        "train, test = [], []\n",
        "num_test_samples = 10\n",
        "\n",
        "for user, data in ratings.groupby('userId'):\n",
        "    train += [data[:-num_test_samples]]\n",
        "    test += [data[-num_test_samples:]]\n",
        "\n",
        "train = pd.concat(train)\n",
        "test = pd.concat(test)\n",
        "print(train.shape, test.shape)"
      ]
    },
    {
      "cell_type": "code",
      "execution_count": 26,
      "metadata": {},
      "outputs": [
        {
          "data": {
            "text/html": [
              "<div>\n",
              "<style scoped>\n",
              "    .dataframe tbody tr th:only-of-type {\n",
              "        vertical-align: middle;\n",
              "    }\n",
              "\n",
              "    .dataframe tbody tr th {\n",
              "        vertical-align: top;\n",
              "    }\n",
              "\n",
              "    .dataframe thead th {\n",
              "        text-align: right;\n",
              "    }\n",
              "</style>\n",
              "<table border=\"1\" class=\"dataframe\">\n",
              "  <thead>\n",
              "    <tr style=\"text-align: right;\">\n",
              "      <th></th>\n",
              "      <th>userId</th>\n",
              "      <th>movieId</th>\n",
              "      <th>rating</th>\n",
              "      <th>timestamp</th>\n",
              "      <th>title</th>\n",
              "    </tr>\n",
              "  </thead>\n",
              "  <tbody>\n",
              "    <tr>\n",
              "      <th>0</th>\n",
              "      <td>0</td>\n",
              "      <td>30</td>\n",
              "      <td>2.5</td>\n",
              "      <td>1260759144</td>\n",
              "      <td>Dangerous Minds</td>\n",
              "    </tr>\n",
              "    <tr>\n",
              "      <th>42</th>\n",
              "      <td>0</td>\n",
              "      <td>830</td>\n",
              "      <td>3.0</td>\n",
              "      <td>1260759179</td>\n",
              "      <td>Dumbo</td>\n",
              "    </tr>\n",
              "    <tr>\n",
              "      <th>84</th>\n",
              "      <td>0</td>\n",
              "      <td>856</td>\n",
              "      <td>3.0</td>\n",
              "      <td>1260759182</td>\n",
              "      <td>Sleepers</td>\n",
              "    </tr>\n",
              "    <tr>\n",
              "      <th>117</th>\n",
              "      <td>0</td>\n",
              "      <td>903</td>\n",
              "      <td>2.0</td>\n",
              "      <td>1260759185</td>\n",
              "      <td>Escape from New York</td>\n",
              "    </tr>\n",
              "    <tr>\n",
              "      <th>165</th>\n",
              "      <td>0</td>\n",
              "      <td>927</td>\n",
              "      <td>4.0</td>\n",
              "      <td>1260759205</td>\n",
              "      <td>Cinema Paradiso</td>\n",
              "    </tr>\n",
              "  </tbody>\n",
              "</table>\n",
              "</div>"
            ],
            "text/plain": [
              "     userId  movieId  rating   timestamp                 title\n",
              "0         0       30     2.5  1260759144       Dangerous Minds\n",
              "42        0      830     3.0  1260759179                 Dumbo\n",
              "84        0      856     3.0  1260759182              Sleepers\n",
              "117       0      903     2.0  1260759185  Escape from New York\n",
              "165       0      927     4.0  1260759205       Cinema Paradiso"
            ]
          },
          "execution_count": 26,
          "metadata": {},
          "output_type": "execute_result"
        }
      ],
      "source": [
        "train.head()"
      ]
    },
    {
      "cell_type": "markdown",
      "id": "0R5MlAAlWOcS",
      "metadata": {
        "id": "0R5MlAAlWOcS"
      },
      "source": [
        "## Quiz\n",
        "\n",
        "Запишите данные в формате, где строка соответствует пользователю, а столбцы будут истинными метками и предсказаниями в виде списков.\n",
        "\n",
        "Назовите полученную таблицу `interactions`, действуйте по аналогии или воспользуйтесь кодом из урока.\n",
        "\n",
        "В ответ запишите максимальное значение `movieId` из тестовых фильмов для пользователя `userId=2`."
      ]
    },
    {
      "cell_type": "code",
      "execution_count": 94,
      "metadata": {},
      "outputs": [
        {
          "data": {
            "text/html": [
              "<div>\n",
              "<style scoped>\n",
              "    .dataframe tbody tr th:only-of-type {\n",
              "        vertical-align: middle;\n",
              "    }\n",
              "\n",
              "    .dataframe tbody tr th {\n",
              "        vertical-align: top;\n",
              "    }\n",
              "\n",
              "    .dataframe thead th {\n",
              "        text-align: right;\n",
              "    }\n",
              "</style>\n",
              "<table border=\"1\" class=\"dataframe\">\n",
              "  <thead>\n",
              "    <tr style=\"text-align: right;\">\n",
              "      <th></th>\n",
              "      <th>true_train</th>\n",
              "      <th>true_test</th>\n",
              "    </tr>\n",
              "    <tr>\n",
              "      <th>userId</th>\n",
              "      <th></th>\n",
              "      <th></th>\n",
              "    </tr>\n",
              "  </thead>\n",
              "  <tbody>\n",
              "    <tr>\n",
              "      <th>0</th>\n",
              "      <td>[30, 830, 856, 903, 927, 1013, 1037, 1043, 107...</td>\n",
              "      <td>[1107, 1136, 1511, 1661, 1704, 1739, 1811, 195...</td>\n",
              "    </tr>\n",
              "    <tr>\n",
              "      <th>1</th>\n",
              "      <td>[9, 16, 37, 45, 48, 49, 58, 100, 123, 129, 132...</td>\n",
              "      <td>[518, 519, 520, 521, 522, 523, 524, 525, 543, ...</td>\n",
              "    </tr>\n",
              "    <tr>\n",
              "      <th>2</th>\n",
              "      <td>[100, 266, 321, 341, 472, 521, 524, 525, 56, 2...</td>\n",
              "      <td>[5008, 5107, 5456, 5461, 5874, 6345, 6518, 656...</td>\n",
              "    </tr>\n",
              "    <tr>\n",
              "      <th>3</th>\n",
              "      <td>[1107, 1511, 1661, 1739, 2375, 9, 132, 163, 26...</td>\n",
              "      <td>[2491, 2495, 2543, 2575, 2576, 2602, 2606, 261...</td>\n",
              "    </tr>\n",
              "    <tr>\n",
              "      <th>4</th>\n",
              "      <td>[1811, 37, 129, 321, 328, 331, 341, 447, 519, ...</td>\n",
              "      <td>[5955, 5957, 6098, 6118, 6144, 6172, 6260, 627...</td>\n",
              "    </tr>\n",
              "  </tbody>\n",
              "</table>\n",
              "</div>"
            ],
            "text/plain": [
              "                                               true_train  \\\n",
              "userId                                                      \n",
              "0       [30, 830, 856, 903, 927, 1013, 1037, 1043, 107...   \n",
              "1       [9, 16, 37, 45, 48, 49, 58, 100, 123, 129, 132...   \n",
              "2       [100, 266, 321, 341, 472, 521, 524, 525, 56, 2...   \n",
              "3       [1107, 1511, 1661, 1739, 2375, 9, 132, 163, 26...   \n",
              "4       [1811, 37, 129, 321, 328, 331, 341, 447, 519, ...   \n",
              "\n",
              "                                                true_test  \n",
              "userId                                                     \n",
              "0       [1107, 1136, 1511, 1661, 1704, 1739, 1811, 195...  \n",
              "1       [518, 519, 520, 521, 522, 523, 524, 525, 543, ...  \n",
              "2       [5008, 5107, 5456, 5461, 5874, 6345, 6518, 656...  \n",
              "3       [2491, 2495, 2543, 2575, 2576, 2602, 2606, 261...  \n",
              "4       [5955, 5957, 6098, 6118, 6144, 6172, 6260, 627...  "
            ]
          },
          "execution_count": 94,
          "metadata": {},
          "output_type": "execute_result"
        }
      ],
      "source": [
        "interactions = (\n",
        "    train\n",
        "    .groupby('userId')['movieId'].agg(lambda x: list(x))\n",
        "    .reset_index()\n",
        "    .rename(columns={'movieId': 'true_train'})\n",
        "    .set_index('userId')\n",
        ")\n",
        "    \n",
        "interactions['true_test'] = (\n",
        "    test\n",
        "    .groupby('userId')['movieId'].agg(lambda x: list(x))\n",
        "    \n",
        "      \n",
        ")\n",
        "\n",
        "interactions.head()"
      ]
    },
    {
      "cell_type": "code",
      "execution_count": 97,
      "metadata": {},
      "outputs": [
        {
          "data": {
            "text/plain": [
              "7681"
            ]
          },
          "execution_count": 97,
          "metadata": {},
          "output_type": "execute_result"
        }
      ],
      "source": [
        "max(interactions.loc[2, 'true_test'])"
      ]
    },
    {
      "cell_type": "markdown",
      "id": "nXMXKpgjWk6m",
      "metadata": {
        "id": "nXMXKpgjWk6m"
      },
      "source": [
        "Для оценки качества модели будем использовать метрику  precision@10 для каждого пользователя (доля угаданных рекомендаций). Усредним ее по всем пользователям (полученная метрика называется MAP@10)."
      ]
    },
    {
      "cell_type": "code",
      "execution_count": 98,
      "id": "Jw_UkYyIRe9h",
      "metadata": {
        "id": "Jw_UkYyIRe9h"
      },
      "outputs": [],
      "source": [
        "def calc_precision(column):\n",
        "    return (\n",
        "        interactions\n",
        "        .apply(\n",
        "            lambda row:\n",
        "            len(set(row['true_test']).intersection(\n",
        "                set(row[column]))) /\n",
        "            min(len(row['true_test']) + 0.001, 10.0),\n",
        "            axis=1)).mean()"
      ]
    },
    {
      "cell_type": "markdown",
      "id": "IFTuPGaeZwTz",
      "metadata": {
        "id": "IFTuPGaeZwTz"
      },
      "source": [
        "## Коллаборативная фильтрация"
      ]
    },
    {
      "cell_type": "markdown",
      "id": "ODiZAQOGYiJ4",
      "metadata": {
        "id": "ODiZAQOGYiJ4"
      },
      "source": [
        "## Quiz\n",
        "\n",
        "Составьте матрицу \"оценок\" пользователей - `ratings`. Нули будут обозначать отсутствие взаимодействия.\n",
        "\n",
        "Действуйте по аналогии или воспользуйтесь кодом из урока.\n",
        "\n",
        "В ответ запишите число столбцов в матрице `ratings`."
      ]
    },
    {
      "cell_type": "code",
      "execution_count": 108,
      "id": "SKG3zanpSOmb",
      "metadata": {
        "id": "SKG3zanpSOmb"
      },
      "outputs": [],
      "source": [
        "ratings = pd.pivot_table(\n",
        "    train,\n",
        "    values='rating',\n",
        "    index='userId',\n",
        "    columns='movieId').fillna(0)"
      ]
    },
    {
      "cell_type": "code",
      "execution_count": 110,
      "metadata": {},
      "outputs": [
        {
          "data": {
            "text/plain": [
              "8044"
            ]
          },
          "execution_count": 110,
          "metadata": {},
          "output_type": "execute_result"
        }
      ],
      "source": [
        "ratings.shape[1]"
      ]
    },
    {
      "cell_type": "code",
      "execution_count": 111,
      "id": "bq82LkpYSOpU",
      "metadata": {
        "id": "bq82LkpYSOpU"
      },
      "outputs": [],
      "source": [
        "ratings_m = ratings.values"
      ]
    },
    {
      "cell_type": "code",
      "execution_count": 112,
      "metadata": {},
      "outputs": [
        {
          "data": {
            "text/plain": [
              "array([[0., 0., 0., ..., 0., 0., 0.],\n",
              "       [0., 0., 0., ..., 0., 0., 0.],\n",
              "       [0., 0., 0., ..., 0., 0., 0.],\n",
              "       ...,\n",
              "       [0., 0., 0., ..., 0., 0., 0.],\n",
              "       [4., 0., 0., ..., 0., 0., 0.],\n",
              "       [5., 0., 0., ..., 0., 0., 0.]])"
            ]
          },
          "execution_count": 112,
          "metadata": {},
          "output_type": "execute_result"
        }
      ],
      "source": [
        "ratings_m"
      ]
    },
    {
      "cell_type": "markdown",
      "id": "lolkVRhAYzDQ",
      "metadata": {
        "id": "lolkVRhAYzDQ"
      },
      "source": [
        "## Quiz\n",
        "\n",
        "Посчитайте схожести пользователей (запишите их в np.array `similarity_users`) с помощью корреляции Пирсона. Для каждой пары учитывайте только ненулевые значения.\n",
        "\n",
        "Действуйте по аналогии или воспользуйтесь кодом из урока.\n",
        "\n",
        "В ответ запишите значение `similarity_users[0,6]` без округления."
      ]
    },
    {
      "cell_type": "code",
      "execution_count": 113,
      "id": "OUM6SCgYSOsS",
      "metadata": {
        "id": "OUM6SCgYSOsS"
      },
      "outputs": [
        {
          "data": {
            "application/vnd.jupyter.widget-view+json": {
              "model_id": "93cb1af848de43728b7ed8d5d8fcad55",
              "version_major": 2,
              "version_minor": 0
            },
            "text/plain": [
              "  0%|          | 0/670 [00:00<?, ?it/s]"
            ]
          },
          "metadata": {},
          "output_type": "display_data"
        }
      ],
      "source": [
        "import numpy as np\n",
        "from tqdm.notebook import tqdm_notebook\n",
        "\n",
        "# ratings_m - это матрица оценок пользователей, где строки представляют пользователей, а столбцы - фильмы.\n",
        "# Нули могут обозначать отсутствие оценки.\n",
        "\n",
        "# Создаем матрицу для хранения коэффициентов корреляции между пользователями\n",
        "similarity_users = np.zeros((len(ratings_m), len(ratings_m)))\n",
        "\n",
        "# Внешний цикл по всем пользователям\n",
        "for i in tqdm_notebook(range(len(ratings_m)-1)):\n",
        "    # Внутренний цикл начиная с пользователя, следующего после текущего пользователя (i+1)\n",
        "    for j in range(i+1, len(ratings_m)):\n",
        "        # Создаем булеву маску для общих ненулевых оценок между пользователями i и j\n",
        "        mask_uv = (ratings_m[i] != 0) & (ratings_m[j] != 0)\n",
        "\n",
        "        # Пропускаем, если нет общих ненулевых оценок\n",
        "        if np.sum(mask_uv) == 0:\n",
        "            continue\n",
        "\n",
        "        # Выбираем ненулевые оценки для текущей пары пользователей\n",
        "        ratings_v = ratings_m[i, mask_uv]\n",
        "        ratings_u = ratings_m[j, mask_uv]\n",
        "\n",
        "        # Пропускаем, если у одного из пользователей или обоих пользователей есть только одна уникальная оценка\n",
        "        if len(np.unique(ratings_v)) < 2 or len(np.unique(ratings_u)) < 2:\n",
        "            continue\n",
        "\n",
        "        # Вычисляем коэффициент корреляции Пирсона между оценками пользователей i и j\n",
        "        similarity_users[i,j] = np.corrcoef(ratings_v, ratings_u)[0, 1]\n",
        "        # Симметрично заполняем матрицу корреляции\n",
        "        similarity_users[j,i] = similarity_users[i,j]\n"
      ]
    },
    {
      "cell_type": "code",
      "execution_count": 116,
      "metadata": {},
      "outputs": [
        {
          "data": {
            "text/plain": [
              "-0.4999999999999999"
            ]
          },
          "execution_count": 116,
          "metadata": {},
          "output_type": "execute_result"
        }
      ],
      "source": [
        "similarity_users[0,6]\n"
      ]
    },
    {
      "cell_type": "markdown",
      "id": "FoVGbJEVY7kY",
      "metadata": {
        "id": "FoVGbJEVY7kY"
      },
      "source": [
        "## Quiz\n",
        "\n",
        "Сделайте user-based прогнозы по тому же правилу, что и в уроке:\n",
        "\n",
        "Для каждого пользователя:\n",
        "\n",
        "1. Найдём пользователей с похожестью больше $\\alpha$ на нашего пользователя.\n",
        "2. Посчитаем для каждого фильма долю пользователей (среди выделенных на первом шаге), которые взаимодействовали с этим фильмом.\n",
        "3. Порекомендуем фильмы с наибольшими долями со второго шага (среди тех, которые пользователь ещё не видел).\n",
        "\n",
        "В нашем примере данных не очень много, поэтому возьмём $\\alpha = 0$.\n",
        "\n",
        "Сделайте предсказания и запишите их в столбец\n",
        "`prediction_user_based` таблицы `interactions`."
      ]
    },
    {
      "cell_type": "markdown",
      "id": "GPgDBgFcj5PE",
      "metadata": {
        "id": "GPgDBgFcj5PE"
      },
      "source": [
        "В ответ запишите минимальный предсказанный `movieId` для пользователя `userId=4`."
      ]
    },
    {
      "cell_type": "code",
      "execution_count": 117,
      "id": "HrM7cdFhS5y8",
      "metadata": {
        "id": "HrM7cdFhS5y8"
      },
      "outputs": [
        {
          "data": {
            "application/vnd.jupyter.widget-view+json": {
              "model_id": "18704cd060b043988120dd71d53ddb21",
              "version_major": 2,
              "version_minor": 0
            },
            "text/plain": [
              "  0%|          | 0/671 [00:00<?, ?it/s]"
            ]
          },
          "metadata": {},
          "output_type": "display_data"
        }
      ],
      "source": [
        "# prediction_user_based - это список, в который будут добавляться рекомендации для каждого пользователя\n",
        "prediction_user_based = []\n",
        "\n",
        "# Внешний цикл по всем пользователям\n",
        "for i in tqdm_notebook(range(len(similarity_users))):\n",
        "    # Выделяем пользователей, у которых есть положительная корреляция с текущим пользователем\n",
        "    users_sim = similarity_users[i] > 0\n",
        "    \n",
        "    # Если нет пользователей с положительной корреляцией, добавляем пустой список в prediction_user_based\n",
        "    if len(users_sim) == 0:\n",
        "        prediction_user_based.append([])\n",
        "    else:\n",
        "        # Сортируем фильмы по сумме оценок пользователей с положительной корреляцией в убывающем порядке\n",
        "        tmp_recommend = np.argsort(ratings_m[users_sim].sum(axis=0))[::-1]\n",
        "        \n",
        "        # Преобразуем индексы фильмов в названия фильмов\n",
        "        tmp_recommend = ratings.columns[tmp_recommend]\n",
        "        \n",
        "        # Исключаем фильмы, которые уже оценены текущим пользователем, и выбираем топ-10 рекомендаций\n",
        "        recommend = np.array(tmp_recommend)[~np.in1d(tmp_recommend, interactions.iloc[i])][:10]\n",
        "        \n",
        "        # Добавляем рекомендации для текущего пользователя в prediction_user_based\n",
        "        prediction_user_based.append(list(recommend))\n",
        "\n",
        "# Добавляем столбец 'prediction_user_based' к датасету interactions\n",
        "interactions['prediction_user_based'] = prediction_user_based\n"
      ]
    },
    {
      "cell_type": "code",
      "execution_count": 120,
      "metadata": {},
      "outputs": [
        {
          "data": {
            "text/plain": [
              "100"
            ]
          },
          "execution_count": 120,
          "metadata": {},
          "output_type": "execute_result"
        }
      ],
      "source": [
        "min(interactions.loc[4, 'prediction_user_based'])"
      ]
    },
    {
      "cell_type": "markdown",
      "id": "bmUWpDJOZcwJ",
      "metadata": {
        "id": "bmUWpDJOZcwJ"
      },
      "source": [
        "## Quiz\n",
        "\n",
        "Посчитайте значение метрики MAP@10 для user-based подхода.\n",
        "\n",
        "Ответ округлите до тысячных."
      ]
    },
    {
      "cell_type": "code",
      "execution_count": 121,
      "id": "JW7lDORvS53T",
      "metadata": {
        "id": "JW7lDORvS53T"
      },
      "outputs": [
        {
          "data": {
            "text/plain": [
              "0.005365126676602086"
            ]
          },
          "execution_count": 121,
          "metadata": {},
          "output_type": "execute_result"
        }
      ],
      "source": [
        "calc_precision('prediction_user_based')"
      ]
    },
    {
      "cell_type": "markdown",
      "id": "GLEQFHOLZzfx",
      "metadata": {
        "id": "GLEQFHOLZzfx"
      },
      "source": [
        "## SVD-разложение\n",
        "\n",
        "Для выполнения заданий при необходимости заглядывайте в ноутбук из урока."
      ]
    },
    {
      "cell_type": "markdown",
      "id": "du0CNJTJZ4yn",
      "metadata": {
        "id": "du0CNJTJZ4yn"
      },
      "source": [
        "## Quiz\n",
        "\n",
        "Сделайте сингулярное разложение (svd в scipy.linalg), на выходе вы получите три матрицы - `U`,`sigma`,`V`.\n",
        "\n",
        "В ответ запишите число элементов матрицы `U`."
      ]
    },
    {
      "cell_type": "code",
      "execution_count": 123,
      "id": "lVUUWQQkS56h",
      "metadata": {
        "id": "lVUUWQQkS56h"
      },
      "outputs": [],
      "source": [
        "from scipy.linalg import svd"
      ]
    },
    {
      "cell_type": "code",
      "execution_count": 124,
      "id": "vMBaxaO7Twj0",
      "metadata": {
        "id": "vMBaxaO7Twj0"
      },
      "outputs": [
        {
          "name": "stdout",
          "output_type": "stream",
          "text": [
            "(671, 8044) (671, 671) (671,) (8044, 8044)\n"
          ]
        }
      ],
      "source": [
        "U, sigma, V = svd(ratings)\n",
        "print(ratings.shape, U.shape, sigma.shape, V.shape)"
      ]
    },
    {
      "cell_type": "code",
      "execution_count": 126,
      "metadata": {},
      "outputs": [
        {
          "name": "stdout",
          "output_type": "stream",
          "text": [
            "3.4332441395842543e-22\n"
          ]
        }
      ],
      "source": [
        "Sigma = np.zeros((671, 8044))\n",
        "Sigma[:671, :671] = np.diag(sigma)\n",
        "\n",
        "new_ratings = U.dot(Sigma).dot(V)\n",
        "\n",
        "print(sum(sum((new_ratings - ratings.values) ** 2)))"
      ]
    },
    {
      "cell_type": "markdown",
      "id": "_lMGojO6Z_d4",
      "metadata": {
        "id": "_lMGojO6Z_d4"
      },
      "source": [
        "Значения у матрицы с сингулярными числами отсортированы по убыванию.\n",
        "\n",
        "Оставьте только первые 150 компонент, чтобы получить скрытые представления размерности 150. Для этого необходимо оставить 150 столбцов в матрице U, оставить из sigma только первые 150 значений (и сделать из них диагональную матрицу) и 150 столбцов в матрице V. Перемножим преобразованные матрицы ($\\hat{U}, \\hat{sigma}, \\hat{V^T}$), чтобы получить восстановленную матрицу оценок."
      ]
    },
    {
      "cell_type": "code",
      "execution_count": 127,
      "id": "3b92c27bTwmd",
      "metadata": {
        "id": "3b92c27bTwmd"
      },
      "outputs": [],
      "source": [
        "K = 150\n",
        "\n",
        "sigma[K:] = 0\n",
        "Sigma = np.zeros((671, 8044))\n",
        "Sigma[:671, :671] = np.diag(sigma)"
      ]
    },
    {
      "cell_type": "markdown",
      "id": "gc_lwhciaOr5",
      "metadata": {
        "id": "gc_lwhciaOr5"
      },
      "source": [
        "## Quiz\n",
        "\n",
        "Посчитайте качество аппроксимации матрицы по норме Фробениуса (среднеквадратичную ошибку между всеми элементами соответствующими элементами двух матриц). Сравните его с простым бейзлайном с константным значением, равным среднему значению исходной матрицы. У аппроксимации ошибка должна получиться ниже.\n",
        "\n",
        "Во сколько раз ошибка аппроксимации меньше, чем ошибка бейзлайна? Ответ округлите до целого числа."
      ]
    },
    {
      "cell_type": "code",
      "execution_count": 129,
      "id": "BHLG2vnPTwpX",
      "metadata": {
        "id": "BHLG2vnPTwpX"
      },
      "outputs": [
        {
          "name": "stdout",
          "output_type": "stream",
          "text": [
            "248017.78364373572\n",
            "1255671.6721978304\n"
          ]
        }
      ],
      "source": [
        "new_ratings = U.dot(Sigma).dot(V)\n",
        "\n",
        "print(sum(sum((new_ratings - ratings.values) ** 2))) # апрроксимация\n",
        "print(sum(sum((ratings.values.mean() - ratings.values) ** 2))) #base line"
      ]
    },
    {
      "cell_type": "markdown",
      "id": "PqVZVjq9aaxd",
      "metadata": {
        "id": "PqVZVjq9aaxd"
      },
      "source": [
        "## Quiz\n",
        "\n",
        "Теперь сделайте предсказания по матрице (не забывайте про то, что уже было просмотрено пользователем).\n",
        "\n",
        "Для этого необходимо для каждого пользователя найти предметы с наибольшими оценками в восстановленной матрице.\n",
        "\n",
        "В ответ запишите максимальный предсказанный `movieId` для пользователя `userId=4`."
      ]
    },
    {
      "cell_type": "code",
      "execution_count": 130,
      "id": "Jnt9aPm7TwsM",
      "metadata": {
        "id": "Jnt9aPm7TwsM"
      },
      "outputs": [
        {
          "data": {
            "application/vnd.jupyter.widget-view+json": {
              "model_id": "12c4a16d049b4a2bbe6956692adf19b0",
              "version_major": 2,
              "version_minor": 0
            },
            "text/plain": [
              "  0%|          | 0/671 [00:00<?, ?it/s]"
            ]
          },
          "metadata": {},
          "output_type": "display_data"
        }
      ],
      "source": [
        "top_k = 10\n",
        "\n",
        "new_ratings = pd.DataFrame(new_ratings, index=ratings.index, columns=ratings.columns)\n",
        "\n",
        "predictions = []\n",
        "\n",
        "for personId in tqdm_notebook(interactions.index):\n",
        "    prediction = (\n",
        "        new_ratings\n",
        "        .loc[personId]\n",
        "        .sort_values(ascending=False)\n",
        "        .index.values\n",
        "    )\n",
        "\n",
        "    predictions.append(\n",
        "        list(prediction[~np.in1d(\n",
        "            prediction,\n",
        "            interactions.loc[personId, 'true_train'])])[:top_k])\n",
        "\n",
        "interactions['prediction_svd'] = predictions"
      ]
    },
    {
      "cell_type": "code",
      "execution_count": 135,
      "metadata": {},
      "outputs": [
        {
          "data": {
            "text/plain": [
              "3373"
            ]
          },
          "execution_count": 135,
          "metadata": {},
          "output_type": "execute_result"
        }
      ],
      "source": [
        "max(interactions.loc[4, 'prediction_svd'])"
      ]
    },
    {
      "cell_type": "markdown",
      "id": "cL1hyCWcau4B",
      "metadata": {
        "id": "cL1hyCWcau4B"
      },
      "source": [
        "## Quiz\n",
        "\n",
        "Посчитайте значение метрики MAP@10 для SVD-подхода.\n",
        "\n",
        "Ответ округлите до тысячных."
      ]
    },
    {
      "cell_type": "code",
      "execution_count": 131,
      "id": "p76wSzURTwvD",
      "metadata": {
        "id": "p76wSzURTwvD"
      },
      "outputs": [
        {
          "data": {
            "text/plain": [
              "0.022652757078986587"
            ]
          },
          "execution_count": 131,
          "metadata": {},
          "output_type": "execute_result"
        }
      ],
      "source": [
        "calc_precision('prediction_svd')"
      ]
    }
  ],
  "metadata": {
    "colab": {
      "provenance": []
    },
    "kernelspec": {
      "display_name": "Python 3",
      "language": "python",
      "name": "python3"
    },
    "language_info": {
      "codemirror_mode": {
        "name": "ipython",
        "version": 3
      },
      "file_extension": ".py",
      "mimetype": "text/x-python",
      "name": "python",
      "nbconvert_exporter": "python",
      "pygments_lexer": "ipython3",
      "version": "3.10.9"
    }
  },
  "nbformat": 4,
  "nbformat_minor": 5
}
